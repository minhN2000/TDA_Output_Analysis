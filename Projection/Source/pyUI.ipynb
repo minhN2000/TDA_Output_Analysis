{
 "cells": [
  {
   "cell_type": "code",
   "execution_count": 1,
   "metadata": {},
   "outputs": [
    {
     "name": "stdin",
     "output_type": "stream",
     "text": [
      "Enter the dimension you would like to work on:  3\n",
      "Enter the top k features you would like to see the volumetric diff:  5\n"
     ]
    },
    {
     "name": "stderr",
     "output_type": "stream",
     "text": [
      "/home/minh/Downloads/julia-1.6.2-linux-x86_64/julia-1.6.2/bin/pyjulia/src/julia/core.py:716: FutureWarning: Accessing `Julia().<name>` to obtain Julia objects is deprecated.  Use `from julia import Main; Main.<name>` or `jl = Julia(); jl.eval('<name>')`.\n",
      "  warnings.warn(\n"
     ]
    }
   ],
   "source": [
    "import julia\n",
    "import umap as um\n",
    "import numpy as np\n",
    "import pandas as pd\n",
    "import matlab.engine \n",
    "eng = matlab.engine.start_matlab()\n",
    "\n",
    "\n",
    "d = int(input(\"Enter the dimension you would like to work on: \"))\n",
    "k = int(input(\"Enter the top k features you would like to see the volumetric diff: \"))\n",
    "jl = julia.Julia(compiled_modules=False)\n",
    "jl.include(\"readSim.jl\")\n",
    "list500 = jl.readSim(\"camel500.csv\", d, k)\n",
    "list250 = jl.readSim(\"camel250.csv\", d, k)\n"
   ]
  },
  {
   "cell_type": "code",
   "execution_count": 2,
   "metadata": {},
   "outputs": [],
   "source": [
    "k = min(len(list500),len(list250))\n",
    "a = len(list500) - k\n",
    "del list500[0:a]\n",
    "b = len(list250) - k\n",
    "del list250[0:b]"
   ]
  },
  {
   "cell_type": "code",
   "execution_count": null,
   "metadata": {},
   "outputs": [],
   "source": []
  },
  {
   "cell_type": "code",
   "execution_count": 3,
   "metadata": {},
   "outputs": [],
   "source": [
    "ans = []\n",
    "for i in range(0, k):\n",
    "    pointsCoor = pd.read_csv('camel500.csv', header = None, names = ['x', 'y', 'z'])\n",
    "    x = []\n",
    "    y = []\n",
    "    z = []\n",
    "    for j in list500[i]:\n",
    "        x.append(pointsCoor.loc[j, 'x'])\n",
    "        y.append(pointsCoor.loc[j, 'y'])\n",
    "        z.append(pointsCoor.loc[j, 'z'])\n",
    "    d = {'x': x, 'y': y, 'z': z}\n",
    "    camel = pd.DataFrame(data = d)\n",
    "    s1 = 'bbbbb' + str(i) + '.csv'\n",
    "    \n",
    "    camel.to_csv(s1, index=False)\n",
    "\n",
    "    pointsCoor2 = pd.read_csv('camel250.csv', header = None, names = ['x', 'y', 'z'])\n",
    "    x2 = []\n",
    "    y2 = []\n",
    "    z2 = []\n",
    "    for m in list250[i]:\n",
    "        x2.append(pointsCoor2.loc[m, 'x'])\n",
    "        y2.append(pointsCoor2.loc[m, 'y'])\n",
    "        z2.append(pointsCoor2.loc[m, 'z'])\n",
    "    d2 = {'x': x2, 'y': y2, 'z': z2}\n",
    "    camel2 = pd.DataFrame(data = d2)\n",
    "    s2 = 'aaaaa' + str(i) + '.csv'\n",
    "    camel2.to_csv(s2, index=False)\n",
    "    \n",
    "    v = eng.V_diff(s1,s2)\n",
    "    ans.append(v)\n",
    "    \n",
    "    #v = eng.V_diff()\n",
    "    #ans.append(v)\n"
   ]
  },
  {
   "cell_type": "code",
   "execution_count": 4,
   "metadata": {},
   "outputs": [
    {
     "name": "stdout",
     "output_type": "stream",
     "text": [
      "This is the list of top  3  features:\n",
      "[0.0, 0.0029360000000000002, 0.004882000000000004]\n"
     ]
    }
   ],
   "source": [
    "print(\"This is the list of top \", k, \" features:\")\n",
    "print(ans)"
   ]
  },
  {
   "cell_type": "code",
   "execution_count": null,
   "metadata": {},
   "outputs": [],
   "source": []
  }
 ],
 "metadata": {
  "kernelspec": {
   "display_name": "Python 3",
   "language": "python",
   "name": "python3"
  },
  "language_info": {
   "codemirror_mode": {
    "name": "ipython",
    "version": 3
   },
   "file_extension": ".py",
   "mimetype": "text/x-python",
   "name": "python",
   "nbconvert_exporter": "python",
   "pygments_lexer": "ipython3",
   "version": "3.8.5"
  }
 },
 "nbformat": 4,
 "nbformat_minor": 4
}
